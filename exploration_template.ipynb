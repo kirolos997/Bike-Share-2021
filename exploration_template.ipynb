{
 "cells": [
  {
   "cell_type": "markdown",
   "metadata": {},
   "source": [
    "# Dataset Exploration For Ford GoBike 2021 \n",
    "## by Kirolos Raouf Atteya Saad\n",
    "\n",
    "## Preliminary Wrangling\n",
    "\n",
    "> This data set includes information about individual rides made in a bike-sharing system covering the greater San Francisco Bay area.\n",
    " # Columns:\n",
    " 0   duration_sec : trip duration time taken <br />\n",
    " 1   start_time : the start time of the trip<br />\n",
    " 2   end_time : the end time of the trip after starting<br />\n",
    " 3   start_station_id : the id of the sart station<br />\n",
    " 4   start_station_name : the name of the start station<br />\n",
    " 5   start_station_latitude : the latitude of the start station on the map <br />\n",
    " 6   start_station_longitude :  the longitude of the start station on the map <br />\n",
    " 7   end_station_id : the id of the end station<br />\n",
    " 8   end_station_name : the name of the end station    \n",
    " 9   end_station_latitude: the latitude of the end station on the map <br />\n",
    " 10  end_station_longitude: the longitude of the end station on the map <br />\n",
    " 11  bike_id: the bike id used in the trip <br />\n",
    " 12  user_type : the user type (customer or subscriber)<br /> \n",
    " 13  member_birth_year : the birth date of the user <br />\n",
    " 14  member_gender : gender of the user <br /> \n",
    " 15  bike_share_for_all_trip : bie share for trip (yes or no)<br />\n"
   ]
  },
  {
   "cell_type": "code",
   "execution_count": 1,
   "metadata": {},
   "outputs": [],
   "source": [
    "# The first step of all is that we include the needed tools to work with\n",
    "import numpy as np\n",
    "import pandas as pd\n",
    "import matplotlib.pyplot as plt\n",
    "import seaborn as sb\n",
    "\n",
    "%matplotlib inline"
   ]
  },
  {
   "cell_type": "code",
   "execution_count": 2,
   "metadata": {
    "scrolled": true
   },
   "outputs": [
    {
     "data": {
      "text/html": [
       "<div>\n",
       "<style scoped>\n",
       "    .dataframe tbody tr th:only-of-type {\n",
       "        vertical-align: middle;\n",
       "    }\n",
       "\n",
       "    .dataframe tbody tr th {\n",
       "        vertical-align: top;\n",
       "    }\n",
       "\n",
       "    .dataframe thead th {\n",
       "        text-align: right;\n",
       "    }\n",
       "</style>\n",
       "<table border=\"1\" class=\"dataframe\">\n",
       "  <thead>\n",
       "    <tr style=\"text-align: right;\">\n",
       "      <th></th>\n",
       "      <th>duration_sec</th>\n",
       "      <th>start_time</th>\n",
       "      <th>end_time</th>\n",
       "      <th>start_station_id</th>\n",
       "      <th>start_station_name</th>\n",
       "      <th>start_station_latitude</th>\n",
       "      <th>start_station_longitude</th>\n",
       "      <th>end_station_id</th>\n",
       "      <th>end_station_name</th>\n",
       "      <th>end_station_latitude</th>\n",
       "      <th>end_station_longitude</th>\n",
       "      <th>bike_id</th>\n",
       "      <th>user_type</th>\n",
       "      <th>member_birth_year</th>\n",
       "      <th>member_gender</th>\n",
       "      <th>bike_share_for_all_trip</th>\n",
       "    </tr>\n",
       "  </thead>\n",
       "  <tbody>\n",
       "    <tr>\n",
       "      <th>0</th>\n",
       "      <td>52185</td>\n",
       "      <td>2019-02-28 17:32:10.1450</td>\n",
       "      <td>2019-03-01 08:01:55.9750</td>\n",
       "      <td>21.0</td>\n",
       "      <td>Montgomery St BART Station (Market St at 2nd St)</td>\n",
       "      <td>37.789625</td>\n",
       "      <td>-122.400811</td>\n",
       "      <td>13.0</td>\n",
       "      <td>Commercial St at Montgomery St</td>\n",
       "      <td>37.794231</td>\n",
       "      <td>-122.402923</td>\n",
       "      <td>4902</td>\n",
       "      <td>Customer</td>\n",
       "      <td>1984.0</td>\n",
       "      <td>Male</td>\n",
       "      <td>No</td>\n",
       "    </tr>\n",
       "    <tr>\n",
       "      <th>1</th>\n",
       "      <td>42521</td>\n",
       "      <td>2019-02-28 18:53:21.7890</td>\n",
       "      <td>2019-03-01 06:42:03.0560</td>\n",
       "      <td>23.0</td>\n",
       "      <td>The Embarcadero at Steuart St</td>\n",
       "      <td>37.791464</td>\n",
       "      <td>-122.391034</td>\n",
       "      <td>81.0</td>\n",
       "      <td>Berry St at 4th St</td>\n",
       "      <td>37.775880</td>\n",
       "      <td>-122.393170</td>\n",
       "      <td>2535</td>\n",
       "      <td>Customer</td>\n",
       "      <td>NaN</td>\n",
       "      <td>NaN</td>\n",
       "      <td>No</td>\n",
       "    </tr>\n",
       "    <tr>\n",
       "      <th>2</th>\n",
       "      <td>61854</td>\n",
       "      <td>2019-02-28 12:13:13.2180</td>\n",
       "      <td>2019-03-01 05:24:08.1460</td>\n",
       "      <td>86.0</td>\n",
       "      <td>Market St at Dolores St</td>\n",
       "      <td>37.769305</td>\n",
       "      <td>-122.426826</td>\n",
       "      <td>3.0</td>\n",
       "      <td>Powell St BART Station (Market St at 4th St)</td>\n",
       "      <td>37.786375</td>\n",
       "      <td>-122.404904</td>\n",
       "      <td>5905</td>\n",
       "      <td>Customer</td>\n",
       "      <td>1972.0</td>\n",
       "      <td>Male</td>\n",
       "      <td>No</td>\n",
       "    </tr>\n",
       "    <tr>\n",
       "      <th>3</th>\n",
       "      <td>36490</td>\n",
       "      <td>2019-02-28 17:54:26.0100</td>\n",
       "      <td>2019-03-01 04:02:36.8420</td>\n",
       "      <td>375.0</td>\n",
       "      <td>Grove St at Masonic Ave</td>\n",
       "      <td>37.774836</td>\n",
       "      <td>-122.446546</td>\n",
       "      <td>70.0</td>\n",
       "      <td>Central Ave at Fell St</td>\n",
       "      <td>37.773311</td>\n",
       "      <td>-122.444293</td>\n",
       "      <td>6638</td>\n",
       "      <td>Subscriber</td>\n",
       "      <td>1989.0</td>\n",
       "      <td>Other</td>\n",
       "      <td>No</td>\n",
       "    </tr>\n",
       "    <tr>\n",
       "      <th>4</th>\n",
       "      <td>1585</td>\n",
       "      <td>2019-02-28 23:54:18.5490</td>\n",
       "      <td>2019-03-01 00:20:44.0740</td>\n",
       "      <td>7.0</td>\n",
       "      <td>Frank H Ogawa Plaza</td>\n",
       "      <td>37.804562</td>\n",
       "      <td>-122.271738</td>\n",
       "      <td>222.0</td>\n",
       "      <td>10th Ave at E 15th St</td>\n",
       "      <td>37.792714</td>\n",
       "      <td>-122.248780</td>\n",
       "      <td>4898</td>\n",
       "      <td>Subscriber</td>\n",
       "      <td>1974.0</td>\n",
       "      <td>Male</td>\n",
       "      <td>Yes</td>\n",
       "    </tr>\n",
       "  </tbody>\n",
       "</table>\n",
       "</div>"
      ],
      "text/plain": [
       "   duration_sec                start_time                  end_time  \\\n",
       "0         52185  2019-02-28 17:32:10.1450  2019-03-01 08:01:55.9750   \n",
       "1         42521  2019-02-28 18:53:21.7890  2019-03-01 06:42:03.0560   \n",
       "2         61854  2019-02-28 12:13:13.2180  2019-03-01 05:24:08.1460   \n",
       "3         36490  2019-02-28 17:54:26.0100  2019-03-01 04:02:36.8420   \n",
       "4          1585  2019-02-28 23:54:18.5490  2019-03-01 00:20:44.0740   \n",
       "\n",
       "   start_station_id                                start_station_name  \\\n",
       "0              21.0  Montgomery St BART Station (Market St at 2nd St)   \n",
       "1              23.0                     The Embarcadero at Steuart St   \n",
       "2              86.0                           Market St at Dolores St   \n",
       "3             375.0                           Grove St at Masonic Ave   \n",
       "4               7.0                               Frank H Ogawa Plaza   \n",
       "\n",
       "   start_station_latitude  start_station_longitude  end_station_id  \\\n",
       "0               37.789625              -122.400811            13.0   \n",
       "1               37.791464              -122.391034            81.0   \n",
       "2               37.769305              -122.426826             3.0   \n",
       "3               37.774836              -122.446546            70.0   \n",
       "4               37.804562              -122.271738           222.0   \n",
       "\n",
       "                               end_station_name  end_station_latitude  \\\n",
       "0                Commercial St at Montgomery St             37.794231   \n",
       "1                            Berry St at 4th St             37.775880   \n",
       "2  Powell St BART Station (Market St at 4th St)             37.786375   \n",
       "3                        Central Ave at Fell St             37.773311   \n",
       "4                         10th Ave at E 15th St             37.792714   \n",
       "\n",
       "   end_station_longitude  bike_id   user_type  member_birth_year  \\\n",
       "0            -122.402923     4902    Customer             1984.0   \n",
       "1            -122.393170     2535    Customer                NaN   \n",
       "2            -122.404904     5905    Customer             1972.0   \n",
       "3            -122.444293     6638  Subscriber             1989.0   \n",
       "4            -122.248780     4898  Subscriber             1974.0   \n",
       "\n",
       "  member_gender bike_share_for_all_trip  \n",
       "0          Male                      No  \n",
       "1           NaN                      No  \n",
       "2          Male                      No  \n",
       "3         Other                      No  \n",
       "4          Male                     Yes  "
      ]
     },
     "execution_count": 2,
     "metadata": {},
     "output_type": "execute_result"
    }
   ],
   "source": [
    "# load in the dataset into a pandas dataframe\n",
    "df_fbike = pd.read_csv('201902-fordgobike-tripdata.csv')\n",
    "# make sure we have loaded the data in a correct way \n",
    "df_fbike.head()"
   ]
  },
  {
   "cell_type": "code",
   "execution_count": 3,
   "metadata": {},
   "outputs": [
    {
     "data": {
      "text/plain": [
       "(183412, 16)"
      ]
     },
     "execution_count": 3,
     "metadata": {},
     "output_type": "execute_result"
    }
   ],
   "source": [
    "# examine the total number of rows and columns in our dataset \n",
    "df_fbike.shape"
   ]
  },
  {
   "cell_type": "code",
   "execution_count": 4,
   "metadata": {},
   "outputs": [
    {
     "name": "stdout",
     "output_type": "stream",
     "text": [
      "<class 'pandas.core.frame.DataFrame'>\n",
      "RangeIndex: 183412 entries, 0 to 183411\n",
      "Data columns (total 16 columns):\n",
      " #   Column                   Non-Null Count   Dtype  \n",
      "---  ------                   --------------   -----  \n",
      " 0   duration_sec             183412 non-null  int64  \n",
      " 1   start_time               183412 non-null  object \n",
      " 2   end_time                 183412 non-null  object \n",
      " 3   start_station_id         183215 non-null  float64\n",
      " 4   start_station_name       183215 non-null  object \n",
      " 5   start_station_latitude   183412 non-null  float64\n",
      " 6   start_station_longitude  183412 non-null  float64\n",
      " 7   end_station_id           183215 non-null  float64\n",
      " 8   end_station_name         183215 non-null  object \n",
      " 9   end_station_latitude     183412 non-null  float64\n",
      " 10  end_station_longitude    183412 non-null  float64\n",
      " 11  bike_id                  183412 non-null  int64  \n",
      " 12  user_type                183412 non-null  object \n",
      " 13  member_birth_year        175147 non-null  float64\n",
      " 14  member_gender            175147 non-null  object \n",
      " 15  bike_share_for_all_trip  183412 non-null  object \n",
      "dtypes: float64(7), int64(2), object(7)\n",
      "memory usage: 22.4+ MB\n"
     ]
    }
   ],
   "source": [
    "# examine the data types of each column\n",
    "df_fbike.info()"
   ]
  },
  {
   "cell_type": "code",
   "execution_count": 5,
   "metadata": {},
   "outputs": [
    {
     "data": {
      "text/plain": [
       "0"
      ]
     },
     "execution_count": 5,
     "metadata": {},
     "output_type": "execute_result"
    }
   ],
   "source": [
    "# examine if there are duplicates in our data \n",
    "sum(df_fbike.duplicated())"
   ]
  },
  {
   "cell_type": "code",
   "execution_count": 6,
   "metadata": {},
   "outputs": [
    {
     "name": "stdout",
     "output_type": "stream",
     "text": [
      "<class 'pandas.core.frame.DataFrame'>\n",
      "RangeIndex: 183412 entries, 0 to 183411\n",
      "Data columns (total 12 columns):\n",
      " #   Column                   Non-Null Count   Dtype  \n",
      "---  ------                   --------------   -----  \n",
      " 0   duration_sec             183412 non-null  int64  \n",
      " 1   start_time               183412 non-null  object \n",
      " 2   end_time                 183412 non-null  object \n",
      " 3   start_station_id         183215 non-null  float64\n",
      " 4   start_station_name       183215 non-null  object \n",
      " 5   end_station_id           183215 non-null  float64\n",
      " 6   end_station_name         183215 non-null  object \n",
      " 7   bike_id                  183412 non-null  int64  \n",
      " 8   user_type                183412 non-null  object \n",
      " 9   member_birth_year        175147 non-null  float64\n",
      " 10  member_gender            175147 non-null  object \n",
      " 11  bike_share_for_all_trip  183412 non-null  object \n",
      "dtypes: float64(3), int64(2), object(7)\n",
      "memory usage: 16.8+ MB\n"
     ]
    }
   ],
   "source": [
    "# drop columns that wont help us in our invastigation  \n",
    "df_fbike.drop(['end_station_latitude', 'start_station_longitude','end_station_longitude','start_station_latitude'], axis=1, inplace=True)\n",
    "df_fbike.info()"
   ]
  },
  {
   "cell_type": "code",
   "execution_count": 7,
   "metadata": {},
   "outputs": [
    {
     "name": "stdout",
     "output_type": "stream",
     "text": [
      "<class 'pandas.core.frame.DataFrame'>\n",
      "Int64Index: 174952 entries, 0 to 183411\n",
      "Data columns (total 12 columns):\n",
      " #   Column                   Non-Null Count   Dtype  \n",
      "---  ------                   --------------   -----  \n",
      " 0   duration_sec             174952 non-null  int64  \n",
      " 1   start_time               174952 non-null  object \n",
      " 2   end_time                 174952 non-null  object \n",
      " 3   start_station_id         174952 non-null  float64\n",
      " 4   start_station_name       174952 non-null  object \n",
      " 5   end_station_id           174952 non-null  float64\n",
      " 6   end_station_name         174952 non-null  object \n",
      " 7   bike_id                  174952 non-null  int64  \n",
      " 8   user_type                174952 non-null  object \n",
      " 9   member_birth_year        174952 non-null  float64\n",
      " 10  member_gender            174952 non-null  object \n",
      " 11  bike_share_for_all_trip  174952 non-null  object \n",
      "dtypes: float64(3), int64(2), object(7)\n",
      "memory usage: 17.4+ MB\n"
     ]
    }
   ],
   "source": [
    "#dropping the null values as some columns contains some rows with null values.\n",
    "# as we see, the total number of deleted rows is small compared to the size of the dataset\n",
    "df_fbike.dropna(inplace=True)\n",
    "df_fbike.info()"
   ]
  },
  {
   "cell_type": "code",
   "execution_count": 8,
   "metadata": {},
   "outputs": [
    {
     "name": "stdout",
     "output_type": "stream",
     "text": [
      "<class 'pandas.core.frame.DataFrame'>\n",
      "Int64Index: 174952 entries, 0 to 183411\n",
      "Data columns (total 12 columns):\n",
      " #   Column                   Non-Null Count   Dtype         \n",
      "---  ------                   --------------   -----         \n",
      " 0   duration_sec             174952 non-null  int64         \n",
      " 1   start_time               174952 non-null  datetime64[ns]\n",
      " 2   end_time                 174952 non-null  datetime64[ns]\n",
      " 3   start_station_id         174952 non-null  float64       \n",
      " 4   start_station_name       174952 non-null  object        \n",
      " 5   end_station_id           174952 non-null  float64       \n",
      " 6   end_station_name         174952 non-null  object        \n",
      " 7   bike_id                  174952 non-null  int64         \n",
      " 8   user_type                174952 non-null  object        \n",
      " 9   member_birth_year        174952 non-null  float64       \n",
      " 10  member_gender            174952 non-null  object        \n",
      " 11  bike_share_for_all_trip  174952 non-null  bool          \n",
      "dtypes: bool(1), datetime64[ns](2), float64(3), int64(2), object(4)\n",
      "memory usage: 16.2+ MB\n"
     ]
    }
   ],
   "source": [
    "# As we could see, the stat time and end time are not of type datetime, so we will change their type\n",
    "# we wil change also the column of bike_share_for_all_trip\n",
    "df_fbike.end_time = pd.to_datetime(df_fbike.end_time)\n",
    "df_fbike.start_time = pd.to_datetime(df_fbike.start_time)\n",
    "df_fbike.bike_share_for_all_trip = (df_fbike.bike_share_for_all_trip == 'Yes')\n",
    "df_fbike.info()"
   ]
  },
  {
   "cell_type": "code",
   "execution_count": 9,
   "metadata": {},
   "outputs": [
    {
     "data": {
      "text/html": [
       "<div>\n",
       "<style scoped>\n",
       "    .dataframe tbody tr th:only-of-type {\n",
       "        vertical-align: middle;\n",
       "    }\n",
       "\n",
       "    .dataframe tbody tr th {\n",
       "        vertical-align: top;\n",
       "    }\n",
       "\n",
       "    .dataframe thead th {\n",
       "        text-align: right;\n",
       "    }\n",
       "</style>\n",
       "<table border=\"1\" class=\"dataframe\">\n",
       "  <thead>\n",
       "    <tr style=\"text-align: right;\">\n",
       "      <th></th>\n",
       "      <th>start_time</th>\n",
       "      <th>end_time</th>\n",
       "      <th>start_station_id</th>\n",
       "      <th>start_station_name</th>\n",
       "      <th>end_station_id</th>\n",
       "      <th>end_station_name</th>\n",
       "      <th>bike_id</th>\n",
       "      <th>user_type</th>\n",
       "      <th>member_birth_year</th>\n",
       "      <th>member_gender</th>\n",
       "      <th>bike_share_for_all_trip</th>\n",
       "      <th>duration_minutes</th>\n",
       "    </tr>\n",
       "  </thead>\n",
       "  <tbody>\n",
       "    <tr>\n",
       "      <th>0</th>\n",
       "      <td>2019-02-28 17:32:10.145</td>\n",
       "      <td>2019-03-01 08:01:55.975</td>\n",
       "      <td>21.0</td>\n",
       "      <td>Montgomery St BART Station (Market St at 2nd St)</td>\n",
       "      <td>13.0</td>\n",
       "      <td>Commercial St at Montgomery St</td>\n",
       "      <td>4902</td>\n",
       "      <td>Customer</td>\n",
       "      <td>1984.0</td>\n",
       "      <td>Male</td>\n",
       "      <td>False</td>\n",
       "      <td>869.750000</td>\n",
       "    </tr>\n",
       "    <tr>\n",
       "      <th>2</th>\n",
       "      <td>2019-02-28 12:13:13.218</td>\n",
       "      <td>2019-03-01 05:24:08.146</td>\n",
       "      <td>86.0</td>\n",
       "      <td>Market St at Dolores St</td>\n",
       "      <td>3.0</td>\n",
       "      <td>Powell St BART Station (Market St at 4th St)</td>\n",
       "      <td>5905</td>\n",
       "      <td>Customer</td>\n",
       "      <td>1972.0</td>\n",
       "      <td>Male</td>\n",
       "      <td>False</td>\n",
       "      <td>1030.900000</td>\n",
       "    </tr>\n",
       "    <tr>\n",
       "      <th>3</th>\n",
       "      <td>2019-02-28 17:54:26.010</td>\n",
       "      <td>2019-03-01 04:02:36.842</td>\n",
       "      <td>375.0</td>\n",
       "      <td>Grove St at Masonic Ave</td>\n",
       "      <td>70.0</td>\n",
       "      <td>Central Ave at Fell St</td>\n",
       "      <td>6638</td>\n",
       "      <td>Subscriber</td>\n",
       "      <td>1989.0</td>\n",
       "      <td>Other</td>\n",
       "      <td>False</td>\n",
       "      <td>608.166667</td>\n",
       "    </tr>\n",
       "    <tr>\n",
       "      <th>4</th>\n",
       "      <td>2019-02-28 23:54:18.549</td>\n",
       "      <td>2019-03-01 00:20:44.074</td>\n",
       "      <td>7.0</td>\n",
       "      <td>Frank H Ogawa Plaza</td>\n",
       "      <td>222.0</td>\n",
       "      <td>10th Ave at E 15th St</td>\n",
       "      <td>4898</td>\n",
       "      <td>Subscriber</td>\n",
       "      <td>1974.0</td>\n",
       "      <td>Male</td>\n",
       "      <td>True</td>\n",
       "      <td>26.416667</td>\n",
       "    </tr>\n",
       "    <tr>\n",
       "      <th>5</th>\n",
       "      <td>2019-02-28 23:49:58.632</td>\n",
       "      <td>2019-03-01 00:19:51.760</td>\n",
       "      <td>93.0</td>\n",
       "      <td>4th St at Mission Bay Blvd S</td>\n",
       "      <td>323.0</td>\n",
       "      <td>Broadway at Kearny</td>\n",
       "      <td>5200</td>\n",
       "      <td>Subscriber</td>\n",
       "      <td>1959.0</td>\n",
       "      <td>Male</td>\n",
       "      <td>False</td>\n",
       "      <td>29.883333</td>\n",
       "    </tr>\n",
       "  </tbody>\n",
       "</table>\n",
       "</div>"
      ],
      "text/plain": [
       "               start_time                end_time  start_station_id  \\\n",
       "0 2019-02-28 17:32:10.145 2019-03-01 08:01:55.975              21.0   \n",
       "2 2019-02-28 12:13:13.218 2019-03-01 05:24:08.146              86.0   \n",
       "3 2019-02-28 17:54:26.010 2019-03-01 04:02:36.842             375.0   \n",
       "4 2019-02-28 23:54:18.549 2019-03-01 00:20:44.074               7.0   \n",
       "5 2019-02-28 23:49:58.632 2019-03-01 00:19:51.760              93.0   \n",
       "\n",
       "                                 start_station_name  end_station_id  \\\n",
       "0  Montgomery St BART Station (Market St at 2nd St)            13.0   \n",
       "2                           Market St at Dolores St             3.0   \n",
       "3                           Grove St at Masonic Ave            70.0   \n",
       "4                               Frank H Ogawa Plaza           222.0   \n",
       "5                      4th St at Mission Bay Blvd S           323.0   \n",
       "\n",
       "                               end_station_name  bike_id   user_type  \\\n",
       "0                Commercial St at Montgomery St     4902    Customer   \n",
       "2  Powell St BART Station (Market St at 4th St)     5905    Customer   \n",
       "3                        Central Ave at Fell St     6638  Subscriber   \n",
       "4                         10th Ave at E 15th St     4898  Subscriber   \n",
       "5                            Broadway at Kearny     5200  Subscriber   \n",
       "\n",
       "   member_birth_year member_gender  bike_share_for_all_trip  duration_minutes  \n",
       "0             1984.0          Male                    False        869.750000  \n",
       "2             1972.0          Male                    False       1030.900000  \n",
       "3             1989.0         Other                    False        608.166667  \n",
       "4             1974.0          Male                     True         26.416667  \n",
       "5             1959.0          Male                    False         29.883333  "
      ]
     },
     "execution_count": 9,
     "metadata": {},
     "output_type": "execute_result"
    }
   ],
   "source": [
    "# convert seconds to minutes and drop old column\n",
    "df_fbike['duration_minutes'] = df_fbike.duration_sec /60\n",
    "df_fbike.drop(['duration_sec'], axis=1, inplace=True)\n",
    "df_fbike.head()"
   ]
  },
  {
   "cell_type": "code",
   "execution_count": 10,
   "metadata": {},
   "outputs": [
    {
     "data": {
      "text/html": [
       "<div>\n",
       "<style scoped>\n",
       "    .dataframe tbody tr th:only-of-type {\n",
       "        vertical-align: middle;\n",
       "    }\n",
       "\n",
       "    .dataframe tbody tr th {\n",
       "        vertical-align: top;\n",
       "    }\n",
       "\n",
       "    .dataframe thead th {\n",
       "        text-align: right;\n",
       "    }\n",
       "</style>\n",
       "<table border=\"1\" class=\"dataframe\">\n",
       "  <thead>\n",
       "    <tr style=\"text-align: right;\">\n",
       "      <th></th>\n",
       "      <th>start_time</th>\n",
       "      <th>end_time</th>\n",
       "      <th>start_station_id</th>\n",
       "      <th>start_station_name</th>\n",
       "      <th>end_station_id</th>\n",
       "      <th>end_station_name</th>\n",
       "      <th>bike_id</th>\n",
       "      <th>user_type</th>\n",
       "      <th>member_gender</th>\n",
       "      <th>bike_share_for_all_trip</th>\n",
       "      <th>duration_minutes</th>\n",
       "      <th>member_age</th>\n",
       "    </tr>\n",
       "  </thead>\n",
       "  <tbody>\n",
       "    <tr>\n",
       "      <th>0</th>\n",
       "      <td>2019-02-28 17:32:10.145</td>\n",
       "      <td>2019-03-01 08:01:55.975</td>\n",
       "      <td>21.0</td>\n",
       "      <td>Montgomery St BART Station (Market St at 2nd St)</td>\n",
       "      <td>13.0</td>\n",
       "      <td>Commercial St at Montgomery St</td>\n",
       "      <td>4902</td>\n",
       "      <td>Customer</td>\n",
       "      <td>Male</td>\n",
       "      <td>False</td>\n",
       "      <td>869.750000</td>\n",
       "      <td>37.0</td>\n",
       "    </tr>\n",
       "    <tr>\n",
       "      <th>2</th>\n",
       "      <td>2019-02-28 12:13:13.218</td>\n",
       "      <td>2019-03-01 05:24:08.146</td>\n",
       "      <td>86.0</td>\n",
       "      <td>Market St at Dolores St</td>\n",
       "      <td>3.0</td>\n",
       "      <td>Powell St BART Station (Market St at 4th St)</td>\n",
       "      <td>5905</td>\n",
       "      <td>Customer</td>\n",
       "      <td>Male</td>\n",
       "      <td>False</td>\n",
       "      <td>1030.900000</td>\n",
       "      <td>49.0</td>\n",
       "    </tr>\n",
       "    <tr>\n",
       "      <th>3</th>\n",
       "      <td>2019-02-28 17:54:26.010</td>\n",
       "      <td>2019-03-01 04:02:36.842</td>\n",
       "      <td>375.0</td>\n",
       "      <td>Grove St at Masonic Ave</td>\n",
       "      <td>70.0</td>\n",
       "      <td>Central Ave at Fell St</td>\n",
       "      <td>6638</td>\n",
       "      <td>Subscriber</td>\n",
       "      <td>Other</td>\n",
       "      <td>False</td>\n",
       "      <td>608.166667</td>\n",
       "      <td>32.0</td>\n",
       "    </tr>\n",
       "    <tr>\n",
       "      <th>4</th>\n",
       "      <td>2019-02-28 23:54:18.549</td>\n",
       "      <td>2019-03-01 00:20:44.074</td>\n",
       "      <td>7.0</td>\n",
       "      <td>Frank H Ogawa Plaza</td>\n",
       "      <td>222.0</td>\n",
       "      <td>10th Ave at E 15th St</td>\n",
       "      <td>4898</td>\n",
       "      <td>Subscriber</td>\n",
       "      <td>Male</td>\n",
       "      <td>True</td>\n",
       "      <td>26.416667</td>\n",
       "      <td>47.0</td>\n",
       "    </tr>\n",
       "    <tr>\n",
       "      <th>5</th>\n",
       "      <td>2019-02-28 23:49:58.632</td>\n",
       "      <td>2019-03-01 00:19:51.760</td>\n",
       "      <td>93.0</td>\n",
       "      <td>4th St at Mission Bay Blvd S</td>\n",
       "      <td>323.0</td>\n",
       "      <td>Broadway at Kearny</td>\n",
       "      <td>5200</td>\n",
       "      <td>Subscriber</td>\n",
       "      <td>Male</td>\n",
       "      <td>False</td>\n",
       "      <td>29.883333</td>\n",
       "      <td>62.0</td>\n",
       "    </tr>\n",
       "  </tbody>\n",
       "</table>\n",
       "</div>"
      ],
      "text/plain": [
       "               start_time                end_time  start_station_id  \\\n",
       "0 2019-02-28 17:32:10.145 2019-03-01 08:01:55.975              21.0   \n",
       "2 2019-02-28 12:13:13.218 2019-03-01 05:24:08.146              86.0   \n",
       "3 2019-02-28 17:54:26.010 2019-03-01 04:02:36.842             375.0   \n",
       "4 2019-02-28 23:54:18.549 2019-03-01 00:20:44.074               7.0   \n",
       "5 2019-02-28 23:49:58.632 2019-03-01 00:19:51.760              93.0   \n",
       "\n",
       "                                 start_station_name  end_station_id  \\\n",
       "0  Montgomery St BART Station (Market St at 2nd St)            13.0   \n",
       "2                           Market St at Dolores St             3.0   \n",
       "3                           Grove St at Masonic Ave            70.0   \n",
       "4                               Frank H Ogawa Plaza           222.0   \n",
       "5                      4th St at Mission Bay Blvd S           323.0   \n",
       "\n",
       "                               end_station_name  bike_id   user_type  \\\n",
       "0                Commercial St at Montgomery St     4902    Customer   \n",
       "2  Powell St BART Station (Market St at 4th St)     5905    Customer   \n",
       "3                        Central Ave at Fell St     6638  Subscriber   \n",
       "4                         10th Ave at E 15th St     4898  Subscriber   \n",
       "5                            Broadway at Kearny     5200  Subscriber   \n",
       "\n",
       "  member_gender  bike_share_for_all_trip  duration_minutes  member_age  \n",
       "0          Male                    False        869.750000        37.0  \n",
       "2          Male                    False       1030.900000        49.0  \n",
       "3         Other                    False        608.166667        32.0  \n",
       "4          Male                     True         26.416667        47.0  \n",
       "5          Male                    False         29.883333        62.0  "
      ]
     },
     "execution_count": 10,
     "metadata": {},
     "output_type": "execute_result"
    }
   ],
   "source": [
    "# convert member_birth_year to member_age column\n",
    "df_fbike['member_age'] = 2021-df_fbike.member_birth_year\n",
    "df_fbike.drop(['member_birth_year'], axis=1, inplace=True)\n",
    "df_fbike.head()"
   ]
  },
  {
   "cell_type": "code",
   "execution_count": 11,
   "metadata": {},
   "outputs": [
    {
     "data": {
      "text/html": [
       "<div>\n",
       "<style scoped>\n",
       "    .dataframe tbody tr th:only-of-type {\n",
       "        vertical-align: middle;\n",
       "    }\n",
       "\n",
       "    .dataframe tbody tr th {\n",
       "        vertical-align: top;\n",
       "    }\n",
       "\n",
       "    .dataframe thead th {\n",
       "        text-align: right;\n",
       "    }\n",
       "</style>\n",
       "<table border=\"1\" class=\"dataframe\">\n",
       "  <thead>\n",
       "    <tr style=\"text-align: right;\">\n",
       "      <th></th>\n",
       "      <th>start_station_id</th>\n",
       "      <th>end_station_id</th>\n",
       "      <th>bike_id</th>\n",
       "      <th>duration_minutes</th>\n",
       "      <th>member_age</th>\n",
       "    </tr>\n",
       "  </thead>\n",
       "  <tbody>\n",
       "    <tr>\n",
       "      <th>count</th>\n",
       "      <td>174952.000000</td>\n",
       "      <td>174952.000000</td>\n",
       "      <td>174952.000000</td>\n",
       "      <td>174952.000000</td>\n",
       "      <td>174952.000000</td>\n",
       "    </tr>\n",
       "    <tr>\n",
       "      <th>mean</th>\n",
       "      <td>139.002126</td>\n",
       "      <td>136.604486</td>\n",
       "      <td>4482.587555</td>\n",
       "      <td>11.733379</td>\n",
       "      <td>36.196865</td>\n",
       "    </tr>\n",
       "    <tr>\n",
       "      <th>std</th>\n",
       "      <td>111.648819</td>\n",
       "      <td>111.335635</td>\n",
       "      <td>1659.195937</td>\n",
       "      <td>27.370082</td>\n",
       "      <td>10.118731</td>\n",
       "    </tr>\n",
       "    <tr>\n",
       "      <th>min</th>\n",
       "      <td>3.000000</td>\n",
       "      <td>3.000000</td>\n",
       "      <td>11.000000</td>\n",
       "      <td>1.016667</td>\n",
       "      <td>20.000000</td>\n",
       "    </tr>\n",
       "    <tr>\n",
       "      <th>25%</th>\n",
       "      <td>47.000000</td>\n",
       "      <td>44.000000</td>\n",
       "      <td>3799.000000</td>\n",
       "      <td>5.383333</td>\n",
       "      <td>29.000000</td>\n",
       "    </tr>\n",
       "    <tr>\n",
       "      <th>50%</th>\n",
       "      <td>104.000000</td>\n",
       "      <td>101.000000</td>\n",
       "      <td>4960.000000</td>\n",
       "      <td>8.500000</td>\n",
       "      <td>34.000000</td>\n",
       "    </tr>\n",
       "    <tr>\n",
       "      <th>75%</th>\n",
       "      <td>239.000000</td>\n",
       "      <td>238.000000</td>\n",
       "      <td>5505.000000</td>\n",
       "      <td>13.150000</td>\n",
       "      <td>41.000000</td>\n",
       "    </tr>\n",
       "    <tr>\n",
       "      <th>max</th>\n",
       "      <td>398.000000</td>\n",
       "      <td>398.000000</td>\n",
       "      <td>6645.000000</td>\n",
       "      <td>1409.133333</td>\n",
       "      <td>143.000000</td>\n",
       "    </tr>\n",
       "  </tbody>\n",
       "</table>\n",
       "</div>"
      ],
      "text/plain": [
       "       start_station_id  end_station_id        bike_id  duration_minutes  \\\n",
       "count     174952.000000   174952.000000  174952.000000     174952.000000   \n",
       "mean         139.002126      136.604486    4482.587555         11.733379   \n",
       "std          111.648819      111.335635    1659.195937         27.370082   \n",
       "min            3.000000        3.000000      11.000000          1.016667   \n",
       "25%           47.000000       44.000000    3799.000000          5.383333   \n",
       "50%          104.000000      101.000000    4960.000000          8.500000   \n",
       "75%          239.000000      238.000000    5505.000000         13.150000   \n",
       "max          398.000000      398.000000    6645.000000       1409.133333   \n",
       "\n",
       "          member_age  \n",
       "count  174952.000000  \n",
       "mean       36.196865  \n",
       "std        10.118731  \n",
       "min        20.000000  \n",
       "25%        29.000000  \n",
       "50%        34.000000  \n",
       "75%        41.000000  \n",
       "max       143.000000  "
      ]
     },
     "execution_count": 11,
     "metadata": {},
     "output_type": "execute_result"
    }
   ],
   "source": [
    "# finally we will describe our data\n",
    "df_fbike.describe()"
   ]
  },
  {
   "cell_type": "markdown",
   "metadata": {},
   "source": [
    "### What is the structure of your dataset?\n",
    "\n",
    "> There are 174952 data trips (rows) for fordgobike in the dataset with 12 columns after cleaning our data: (duration_minutes, start_time, end_time, start_station_id, start_station_name, end_station_id, end_station_name, bike_id, user_type, member_age, member_gender, bike_share_for_all_trip).\n",
    "we have 5 numerical columns, 2 datetime, 4 object type and 1 is boolean type.\n",
    "\n",
    "### What is/are the main feature(s) of interest in your dataset?\n",
    "\n",
    "> I will start invistigating the total trip duration taken by a rider and its relation with other features in our data. \n",
    "### What features in the dataset do you think will help support your investigation into your feature(s) of interest?\n",
    "\n",
    "> The age of the user, user type and the gender of the rider "
   ]
  },
  {
   "cell_type": "markdown",
   "metadata": {},
   "source": [
    "## Univariate Exploration\n",
    "\n",
    "> In this section we will do:<br/>\n",
    "1- investigate the main column of interest<br/>\n",
    "2- Clean things up in case outliers or unusual points<br/>\n",
    "3- Relationships between variables.<br/>\n"
   ]
  },
  {
   "cell_type": "markdown",
   "metadata": {},
   "source": [
    "Examine the distribution of the main variable of interest which is duration_minutes"
   ]
  },
  {
   "cell_type": "code",
   "execution_count": 12,
   "metadata": {},
   "outputs": [
    {
     "data": {
      "image/png": "[encoded data removed]",
      "text/plain": [
       "<Figure size 432x432 with 1 Axes>"
      ]
     },
     "metadata": {
      "needs_background": "light"
     },
     "output_type": "display_data"
    }
   ],
   "source": [
    "\n",
    "binsize = 20\n",
    "bins = np.arange(0, df_fbike['duration_minutes'].max()+binsize, binsize)\n",
    "plt.figure(figsize=[6, 6])\n",
    "plt.hist(data = df_fbike, x = 'duration_minutes', bins = bins)\n",
    "plt.title('Histogram of Trip Durations')\n",
    "plt.ylabel('Number of total Trips')\n",
    "plt.xlabel('Duration of trip in min')\n",
    "plt.show()"
   ]
  },
  {
   "cell_type": "markdown",
   "metadata": {},
   "source": [
    "As we could see from previous step, there is a long tail in the examined distribution. So, I will put the shape into\n",
    "log scale instead."
   ]
  },
  {
   "cell_type": "code",
   "execution_count": 13,
   "metadata": {},
   "outputs": [
    {
     "data": {
      "image/png": "[encoded data removed]",
      "text/plain": [
       "<Figure size 432x432 with 1 Axes>"
      ]
     },
     "metadata": {
      "needs_background": "light"
     },
     "output_type": "display_data"
    }
   ],
   "source": [
    "\n",
    "log_binsize = 0.1\n",
    "log_bins = 10 ** np.arange(0.0, np.log10(df_fbike['duration_minutes'].max()) + log_binsize, log_binsize)\n",
    "\n",
    "plt.figure(figsize=[6,6])\n",
    "plt.hist(data = df_fbike, x = 'duration_minutes', bins = log_bins)\n",
    "plt.title('Histogram of Trip Durations')\n",
    "plt.ylabel('Number of total Trips')\n",
    "plt.xlabel('Duration of trip in min')\n",
    "plt.xscale('log')\n",
    "tick_locs = [1, 2, 5,8, 10, 20, 50, 100, 200, 500, 1000, 2000]\n",
    "plt.xticks(tick_locs, tick_locs)\n",
    "plt.show()"
   ]
  },
  {
   "cell_type": "markdown",
   "metadata": {},
   "source": [
    "As we can see, the distribution is very similar in shape to the bimodal one with peak ( 8 min and 10 min) for the the trips taken. some of trips also are between 10 to 15 min. Also, there are outliers in our shape for some trips that are beyond the 500 min (around 9 hours) or less than 2 min (can not be a true ride). So i will drop these values."
   ]
  },
  {
   "cell_type": "code",
   "execution_count": 14,
   "metadata": {},
   "outputs": [],
   "source": [
    "df_fbike.drop(df_fbike[df_fbike['duration_minutes'] > 500].index, inplace = True)"
   ]
  },
  {
   "cell_type": "code",
   "execution_count": 15,
   "metadata": {},
   "outputs": [],
   "source": [
    "df_fbike.drop(df_fbike[df_fbike['duration_minutes'] < 2].index, inplace = True)"
   ]
  },
  {
   "cell_type": "code",
   "execution_count": 16,
   "metadata": {},
   "outputs": [
    {
     "data": {
      "text/plain": [
       "count    171848.000000\n",
       "mean         11.292558\n",
       "std          13.921502\n",
       "min           2.000000\n",
       "25%           5.516667\n",
       "50%           8.616667\n",
       "75%          13.250000\n",
       "max         498.333333\n",
       "Name: duration_minutes, dtype: float64"
      ]
     },
     "execution_count": 16,
     "metadata": {},
     "output_type": "execute_result"
    }
   ],
   "source": [
    "df_fbike['duration_minutes'].describe()"
   ]
  },
  {
   "cell_type": "markdown",
   "metadata": {},
   "source": [
    "From the describe method, we are sure that the outliers have been removed. Next we will examine each suspected feature in our data. we will start with the age"
   ]
  },
  {
   "cell_type": "code",
   "execution_count": 17,
   "metadata": {},
   "outputs": [
    {
     "data": {
      "image/png": "[encoded data removed]",
      "text/plain": [
       "<Figure size 432x432 with 1 Axes>"
      ]
     },
     "metadata": {
      "needs_background": "light"
     },
     "output_type": "display_data"
    }
   ],
   "source": [
    "# The first thing to examine \n",
    "# Plotting age distribution derived from member's birth year.\n",
    "binsize = 5\n",
    "bins = np.arange(0, df_fbike['member_age'].max()+binsize, binsize)\n",
    "plt.figure(figsize=[6, 6])\n",
    "plt.hist(data = df_fbike, x = 'member_age', bins = bins)\n",
    "plt.title('Histogram of members age')\n",
    "plt.ylabel('Age')\n",
    "plt.xlabel('Count of users')\n",
    "plt.show()"
   ]
  },
  {
   "cell_type": "markdown",
   "metadata": {},
   "source": [
    "As we could see, most of the ages are between 20 to 40 years old and beyond that we could see a decrease in the total number of riders due to being old which is normal. however, there are some outliers in our data as for the riders beyond 80 yeears old. So we will drop these values."
   ]
  },
  {
   "cell_type": "code",
   "execution_count": 18,
   "metadata": {},
   "outputs": [
    {
     "data": {
      "text/plain": [
       "count    171680.000000\n",
       "mean         36.145777\n",
       "std           9.871973\n",
       "min          20.000000\n",
       "25%          29.000000\n",
       "50%          34.000000\n",
       "75%          41.000000\n",
       "max          80.000000\n",
       "Name: member_age, dtype: float64"
      ]
     },
     "execution_count": 18,
     "metadata": {},
     "output_type": "execute_result"
    }
   ],
   "source": [
    "df_fbike.drop(df_fbike[df_fbike['member_age'] > 80].index, inplace = True)\n",
    "df_fbike['member_age'].describe()"
   ]
  },
  {
   "cell_type": "markdown",
   "metadata": {},
   "source": [
    "Next, we will examine the gender column "
   ]
  },
  {
   "cell_type": "code",
   "execution_count": 19,
   "metadata": {},
   "outputs": [
    {
     "data": {
      "text/plain": [
       "Text(0, 0.5, 'Number of Users')"
      ]
     },
     "execution_count": 19,
     "metadata": {},
     "output_type": "execute_result"
    },
    {
     "data": {
      "image/png": "[encoded data removed]",
      "text/plain": [
       "<Figure size 432x288 with 1 Axes>"
      ]
     },
     "metadata": {
      "needs_background": "light"
     },
     "output_type": "display_data"
    }
   ],
   "source": [
    "# barplot of gender usage\n",
    "sb.countplot(data = df_fbike, x = 'member_gender')\n",
    "plt.title('Gender Usage')\n",
    "plt.xlabel('Gender')\n",
    "plt.ylabel('Number of Users')"
   ]
  },
  {
   "cell_type": "markdown",
   "metadata": {},
   "source": [
    "We will drop the other values as we will focus on males and females only."
   ]
  },
  {
   "cell_type": "code",
   "execution_count": 20,
   "metadata": {},
   "outputs": [],
   "source": [
    "df_fbike.drop(df_fbike[df_fbike['member_gender'] == 'Other'].index, inplace = True)"
   ]
  },
  {
   "cell_type": "code",
   "execution_count": 21,
   "metadata": {},
   "outputs": [
    {
     "data": {
      "image/png": "[encoded data removed]",
      "text/plain": [
       "<Figure size 432x288 with 1 Axes>"
      ]
     },
     "metadata": {},
     "output_type": "display_data"
    }
   ],
   "source": [
    "user_gender = df_fbike['member_gender'].value_counts()\n",
    "plt.pie(user_gender, explode =  (0, 0.1), labels = user_gender.index, startangle = 90, autopct='%1.1f%%');\n",
    "plt.show()"
   ]
  },
  {
   "cell_type": "markdown",
   "metadata": {},
   "source": [
    "As we could see, most of riders are males compared to the females.Next, we will focus on user type column"
   ]
  },
  {
   "cell_type": "code",
   "execution_count": 22,
   "metadata": {},
   "outputs": [
    {
     "data": {
      "image/png": "[encoded data removed]",
      "text/plain": [
       "<Figure size 576x360 with 1 Axes>"
      ]
     },
     "metadata": {
      "needs_background": "light"
     },
     "output_type": "display_data"
    }
   ],
   "source": [
    "# plotting types of users \n",
    "plt.figure(figsize=[8,5])\n",
    "plt.bar(x = df_fbike.user_type.value_counts().keys(), height = df_fbike.user_type.value_counts() )\n",
    "plt.title('Distribution of User Type')\n",
    "plt.xlabel('User Type')\n",
    "plt.ylabel('Number of Users')\n",
    "plt.show()"
   ]
  },
  {
   "cell_type": "markdown",
   "metadata": {},
   "source": [
    "As we could see, most of riders are subscriber into the system (more than 140000) which means that maybe the system offers good package to those rather than being a normal or daily customer (around 20000)"
   ]
  },
  {
   "cell_type": "markdown",
   "metadata": {},
   "source": [
    "### Discuss the distribution(s) of your variable(s) of interest. Were there any unusual points? Did you need to perform any transformations?\n",
    "\n",
    "> The variable of interest was the trip duration in minutes, the variable has large values on its scale. So, I did a log transform with peak of values between 8min and 10min for. There was some outilers discussed before and we deal with these values.\n",
    "### Of the features you investigated, were there any unusual distributions? Did you perform any operations on the data to tidy, adjust, or change the form of the data? If so, why did you do this?\n",
    "\n",
    "> There was no unusual distributions. I have convert the birth column to age column to deal with age rather than years for better information extraction, also i have extract the trip duration in min rather than in seconds for simplicity and better analyze the data."
   ]
  },
  {
   "cell_type": "markdown",
   "metadata": {},
   "source": [
    "## Bivariate Exploration\n",
    "\n",
    "> In this section we will do:<br/>\n",
    "1- investigate the realtion between trip duration taken by a rider and **his/her age**<br/>\n",
    "2- investigate the realtion between trip duration taken by a rider and **his/her gender**<br/>\n",
    "3- investigate the realtion between trip duration taken by a rider and **his/he type of subrscription** <br/>"
   ]
  },
  {
   "cell_type": "markdown",
   "metadata": {},
   "source": [
    "1- Investigate the realtion between trip duration taken by a rider and his/her age"
   ]
  },
  {
   "cell_type": "code",
   "execution_count": 49,
   "metadata": {},
   "outputs": [
    {
     "data": {
      "image/png": "[encoded data removed]",
      "text/plain": [
       "<Figure size 576x360 with 1 Axes>"
      ]
     },
     "metadata": {
      "needs_background": "light"
     },
     "output_type": "display_data"
    }
   ],
   "source": [
    "# trip duration in minutes versus age column plotting \n",
    "plt.figure(figsize=[8,5])\n",
    "plt.scatter(data = df_fbike, x = 'member_age', y ='duration_minutes', alpha= None)\n",
    "plt.title('Correlation betwen Trip distribution and Age')\n",
    "plt.xlabel('Age')\n",
    "plt.ylabel('Trip Duration (min)')\n",
    "plt.show()"
   ]
  },
  {
   "cell_type": "markdown",
   "metadata": {},
   "source": [
    "As we could see, there is a negative correlation between trip duration and age meaning that when the age increases, the trip duration will decrease"
   ]
  },
  {
   "cell_type": "markdown",
   "metadata": {},
   "source": [
    "2- Investigate the realtion between trip duration taken by a rider and his/her gender"
   ]
  },
  {
   "cell_type": "code",
   "execution_count": 50,
   "metadata": {},
   "outputs": [
    {
     "data": {
      "image/png": "[encoded data removed]",
      "text/plain": [
       "<Figure size 720x360 with 1 Axes>"
      ]
     },
     "metadata": {
      "needs_background": "light"
     },
     "output_type": "display_data"
    }
   ],
   "source": [
    "plt.figure(figsize = [10, 5])\n",
    "sb.boxplot(x='member_gender', y='duration_minutes', data = df_fbike, order=['Male', 'Female'])\n",
    "plt.ylim(-10, 50)\n",
    "plt.title('Trip Duration versus Gender')\n",
    "plt.xlabel('Gender')\n",
    "plt.ylabel('Trip Duration (min)')\n",
    "plt.show()"
   ]
  },
  {
   "cell_type": "markdown",
   "metadata": {},
   "source": [
    "As we could see, the boxplot shows that female participation as in trip duration in minutes is heigher than males by examining the height of each box although total number of male in our dataset is bigger than total number of female\n"
   ]
  },
  {
   "cell_type": "markdown",
   "metadata": {},
   "source": [
    "3-Investigate the realtion between trip duration taken by a rider and his/he type of subrscription<br/>"
   ]
  },
  {
   "cell_type": "code",
   "execution_count": 56,
   "metadata": {},
   "outputs": [
    {
     "data": {
      "image/png": "[encoded data removed]",
      "text/plain": [
       "<Figure size 720x360 with 1 Axes>"
      ]
     },
     "metadata": {
      "needs_background": "light"
     },
     "output_type": "display_data"
    }
   ],
   "source": [
    "import seaborn as sns\n",
    "plt.figure(figsize = [10, 5])\n",
    "sns.boxplot(x='user_type', y='duration_minutes', data = df_fbike)\n",
    "plt.ylim(-10, 50)\n",
    "plt.title('Trip Duration between Customers and Subscribers')\n",
    "plt.xlabel('User Type')\n",
    "plt.ylabel('Trip Duration (min)')\n",
    "plt.show()"
   ]
  },
  {
   "cell_type": "markdown",
   "metadata": {},
   "source": [
    "As we could see, the boxplot shows that customer participation as in trip duration in minutes is heigher than subscriber by examining the height of each box."
   ]
  },
  {
   "cell_type": "markdown",
   "metadata": {},
   "source": [
    "### Talk about some of the relationships you observed in this part of the investigation. How did the feature(s) of interest vary with other features in the dataset?\n",
    "\n",
    "> The relationship between the total duration taken by a trip versus the age of the rider in negativly correlated meaning that when one increases, the other decreases. This relation is normal as when someone gets older, he could not make a lot of effort \n",
    "### Did you observe any interesting relationships between the other features (not the main feature(s) of interest)?\n",
    "\n",
    "> I was surprised when i found that total trip duration of female is higher than male althought number of males in our dataframe is heigher than female. Also, I found that a customer is spending more time riding his bike than a normal subscriber meaning that maybe the company gives good offers and packages for customers.\n"
   ]
  },
  {
   "cell_type": "markdown",
   "metadata": {},
   "source": [
    "## Multivariate Exploration\n",
    "\n",
    "> In this section we will do:<br>\n",
    "Examine the relation between the age column, gender column, user type and the total trip duration in minutes \n"
   ]
  },
  {
   "cell_type": "code",
   "execution_count": 60,
   "metadata": {},
   "outputs": [
    {
     "data": {
      "text/plain": [
       "<Figure size 1080x720 with 0 Axes>"
      ]
     },
     "metadata": {},
     "output_type": "display_data"
    },
    {
     "data": {
      "image/png": "[encoded data removed]",
      "text/plain": [
       "<Figure size 476x360 with 2 Axes>"
      ]
     },
     "metadata": {
      "needs_background": "light"
     },
     "output_type": "display_data"
    }
   ],
   "source": [
    "plt.figure(figsize=[15,10])\n",
    "g = sb.FacetGrid(data = df_fbike, col = 'member_gender', col_wrap = 2, height = 5, aspect =0.65, xlim = [10, 80], ylim = [-100, 1500])\n",
    "g.map_dataframe(sns.scatterplot, 'member_age', 'duration_minutes', alpha= None)\n",
    "g.set_axis_labels('Age', 'Duration (min)')\n",
    "g.add_legend()\n",
    "plt.show()\n"
   ]
  },
  {
   "cell_type": "markdown",
   "metadata": {},
   "source": [
    "> By examining the two figures, we could say that both have similar ride average as they have very similar plots"
   ]
  },
  {
   "cell_type": "code",
   "execution_count": 64,
   "metadata": {},
   "outputs": [
    {
     "data": {
      "text/plain": [
       "<Figure size 1080x720 with 0 Axes>"
      ]
     },
     "metadata": {},
     "output_type": "display_data"
    },
    {
     "data": {
      "image/png": "[encoded data removed]",
      "text/plain": [
       "<Figure size 476x360 with 2 Axes>"
      ]
     },
     "metadata": {
      "needs_background": "light"
     },
     "output_type": "display_data"
    }
   ],
   "source": [
    "plt.figure(figsize=[15,10])\n",
    "g = sb.FacetGrid(data = df_fbike, col = 'user_type', col_wrap = 2, height = 5, aspect =0.65, xlim = [10, 80], ylim = [-100, 1500])\n",
    "g.map_dataframe(sns.scatterplot, 'member_age', 'duration_minutes', alpha= None)\n",
    "g.set_axis_labels('Age', 'Duration (min)')\n",
    "g.add_legend()\n",
    "plt.show()\n"
   ]
  },
  {
   "cell_type": "markdown",
   "metadata": {},
   "source": [
    "Customer and Subscriber are showing similar trends for age and trip duration.\n"
   ]
  },
  {
   "cell_type": "markdown",
   "metadata": {},
   "source": [
    "However, for subscribers the trip duration is higher for older age."
   ]
  },
  {
   "cell_type": "markdown",
   "metadata": {},
   "source": [
    "### Talk about some of the relationships you observed in this part of the investigation. Were there features that strengthened each other in terms of looking at your feature(s) of interest?\n",
    "\n",
    "> As we could see, all the graph that we generate in this section are very similar in shape and in trend\n",
    "\n",
    "### Were there any interesting or surprising interactions between features?\n",
    "\n",
    "> In the second graph, we examine that subscriber trip duration is higher for older age which is a surprise."
   ]
  },
  {
   "cell_type": "code",
   "execution_count": 65,
   "metadata": {},
   "outputs": [],
   "source": [
    "df_fbike.to_csv('df_fbike_clean.csv', index=None)"
   ]
  },
  {
   "cell_type": "code",
   "execution_count": null,
   "metadata": {},
   "outputs": [],
   "source": []
  }
 ],
 "metadata": {
  "kernelspec": {
   "display_name": "Python 3",
   "language": "python",
   "name": "python3"
  },
  "language_info": {
   "codemirror_mode": {
    "name": "ipython",
    "version": 3
   },
   "file_extension": ".py",
   "mimetype": "text/x-python",
   "name": "python",
   "nbconvert_exporter": "python",
   "pygments_lexer": "ipython3",
   "version": "3.7.0"
  }
 },
 "nbformat": 4,
 "nbformat_minor": 2
}
